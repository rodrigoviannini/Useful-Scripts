{
  "nbformat": 4,
  "nbformat_minor": 0,
  "metadata": {
    "colab": {
      "name": "Test Augmentation for Text.ipynb",
      "provenance": [],
      "collapsed_sections": [
        "2-Zb6eMqVuXA",
        "v26kqCu-YzBL",
        "W8-WKTVIdMfX",
        "SsGl5Doqbart"
      ]
    },
    "kernelspec": {
      "name": "python3",
      "display_name": "Python 3"
    },
    "language_info": {
      "name": "python"
    }
  },
  "cells": [
    {
      "cell_type": "markdown",
      "source": [
        "\n",
        "# Instalações e imports\n",
        "\n"
      ],
      "metadata": {
        "id": "2-Zb6eMqVuXA"
      }
    },
    {
      "cell_type": "code",
      "source": [
        "!git clone https://github.com/makcedward/nlpaug.git"
      ],
      "metadata": {
        "id": "OkdilG_UFm36"
      },
      "execution_count": null,
      "outputs": []
    },
    {
      "cell_type": "code",
      "source": [
        "!pip install numpy requests nlpaug nltk pysinonimos"
      ],
      "metadata": {
        "id": "569GULzYF6zi"
      },
      "execution_count": null,
      "outputs": []
    },
    {
      "cell_type": "code",
      "source": [
        "import nltk\n",
        "nltk.download('averaged_perceptron_tagger')\n",
        "nltk.download('wordnet')\n",
        "nltk.download('omw')"
      ],
      "metadata": {
        "id": "uzN4iH0DGy1T"
      },
      "execution_count": null,
      "outputs": []
    },
    {
      "cell_type": "code",
      "source": [
        "%load_ext autoreload\n",
        "%autoreload 2\n",
        "import importlib"
      ],
      "metadata": {
        "id": "TgBMfUceGpIS"
      },
      "execution_count": 5,
      "outputs": []
    },
    {
      "cell_type": "code",
      "source": [
        "import os\n",
        "os.environ[\"MODEL_DIR\"] = '../model'"
      ],
      "metadata": {
        "id": "I8vGry5VGq_I"
      },
      "execution_count": 6,
      "outputs": []
    },
    {
      "cell_type": "code",
      "source": [
        "import nlpaug.augmenter.char as nac\n",
        "import nlpaug.augmenter.word as naw\n",
        "import nlpaug.augmenter.sentence as nas\n",
        "import nlpaug.flow as nafc\n",
        "import random as rd\n",
        "from random import choice\n",
        "import pandas as pd\n",
        "from nlpaug.util import Action\n",
        "from pysinonimos.sinonimos import Search, historic"
      ],
      "metadata": {
        "id": "eljgNVk3GsNS"
      },
      "execution_count": 7,
      "outputs": []
    },
    {
      "cell_type": "markdown",
      "source": [
        "# Augmentation text with nltk"
      ],
      "metadata": {
        "id": "v26kqCu-YzBL"
      }
    },
    {
      "cell_type": "code",
      "source": [
        "def augmentation_text_nltk(field, num_augm):\n",
        "  words = [word for word in field.split(\" \") if len(word) > 3]\n",
        "  result = []\n",
        "\n",
        "  while len(result) != num_augm:\n",
        "    num_rand = rd.sample(range(0, len(words)), 2)[0]\n",
        "\n",
        "    before_word = words[num_rand]\n",
        "\n",
        "    aug = naw.SynonymAug(aug_src='wordnet', lang='por')\n",
        "    augmentation_word = aug.augment(words[num_rand])\n",
        "\n",
        "    new_text = field.replace(before_word, augmentation_word)\n",
        "\n",
        "    if new_text not in result:\n",
        "      result.append(new_text)\n",
        "      \n",
        "  return result"
      ],
      "metadata": {
        "id": "LeXU3bySuUPD"
      },
      "execution_count": 9,
      "outputs": []
    },
    {
      "cell_type": "code",
      "source": [
        "field = 'Empresa responsável por instalação de energia elétrica e projetos de manutenção'\n",
        "\n",
        "augmentation_text_nltk(field,10)"
      ],
      "metadata": {
        "colab": {
          "base_uri": "https://localhost:8080/"
        },
        "id": "k5UyqAmsuGLw",
        "outputId": "c2b42c4e-d8d9-4efc-f112-90c3bbdc2f60"
      },
      "execution_count": 10,
      "outputs": [
        {
          "output_type": "execute_result",
          "data": {
            "text/plain": [
              "['Empresas responsável por instalação de energia elétrica e projetos de manutenção',\n",
              " 'Empresa responsável por serviço de energia elétrica e projetos de manutenção',\n",
              " 'Empresa responsável por instalação de vigor elétrica e projetos de manutenção',\n",
              " 'Empresa responsável por instalação de energia elétrica e projetos de manutenção',\n",
              " 'Empresa responsável por instalação de energia elétrica e projetos de pão',\n",
              " 'Negócios responsável por instalação de energia elétrica e projetos de manutenção',\n",
              " 'Empresa responsável por instalação de vitalidade elétrica e projetos de manutenção',\n",
              " 'Empresa responsável por instalação de energia elétrica e projetos de manutenção do ambiente',\n",
              " 'Empresa responsável por infra estrutura de energia elétrica e projetos de manutenção',\n",
              " 'Empresa réu por instalação de energia elétrica e projetos de manutenção']"
            ]
          },
          "metadata": {},
          "execution_count": 10
        }
      ]
    },
    {
      "cell_type": "markdown",
      "source": [
        "# Augmentation text with synonyms"
      ],
      "metadata": {
        "id": "W8-WKTVIdMfX"
      }
    },
    {
      "cell_type": "code",
      "source": [
        "def augmentation_synonyms(field, num_aug):\n",
        "  words = [word for word in field.split(\" \") if len(word) > 3]\n",
        "  result = []\n",
        "\n",
        "  while len(result) != num_aug:\n",
        "\n",
        "    num_rand = rd.sample(range(0, len(words)), 2)[0]\n",
        "    before_word = words[num_rand]\n",
        "    synonyms_word = Search(words[num_rand]).synonyms()\n",
        "    \n",
        "    num_rand_synonyms = rd.sample(range(0, (len(synonyms_word))), 1)[0]\n",
        "\n",
        "    new_text = field.replace(before_word, synonyms_word[num_rand_synonyms])\n",
        "\n",
        "    if new_text not in result:\n",
        "      result.append(new_text)\n",
        "\n",
        "  return result"
      ],
      "metadata": {
        "id": "lHNJYpmHd3eJ"
      },
      "execution_count": 11,
      "outputs": []
    },
    {
      "cell_type": "code",
      "source": [
        "field = 'Empresa responsável por instalação de energia elétrica e projetos de manutenção'\n",
        "augmentation_synonyms(field, 10)"
      ],
      "metadata": {
        "colab": {
          "base_uri": "https://localhost:8080/"
        },
        "id": "uxf1uSU3i-JV",
        "outputId": "32fb86f2-3d81-4e5e-86f9-9516aece1bb1"
      },
      "execution_count": 12,
      "outputs": [
        {
          "output_type": "execute_result",
          "data": {
            "text/plain": [
              "['Empresa responsável por instalação de energia elétrica e projetos de direção',\n",
              " 'tentativa responsável por instalação de energia elétrica e projetos de manutenção',\n",
              " 'Empresa responsável por instalação de energia elétrica e concepções de manutenção',\n",
              " 'Empresa responsável por instalação de energia elétrica e empresas de manutenção',\n",
              " 'Empresa responsável por instalação de energia elétrica e projetos de esteio',\n",
              " 'Empresa responsável por instalação de esforço elétrica e projetos de manutenção',\n",
              " 'entidade responsável por instalação de energia elétrica e projetos de manutenção',\n",
              " 'Empresa delegado por instalação de energia elétrica e projetos de manutenção',\n",
              " 'Empresa responsável por instalação de vivacidade elétrica e projetos de manutenção',\n",
              " 'Empresa responsável por instalação de energia elétrica e propostas de manutenção']"
            ]
          },
          "metadata": {},
          "execution_count": 12
        }
      ]
    },
    {
      "cell_type": "markdown",
      "source": [
        "# Create phrases with sheet"
      ],
      "metadata": {
        "id": "SsGl5Doqbart"
      }
    },
    {
      "cell_type": "code",
      "source": [
        "def create_text(plan_name, num_aug):\n",
        "  result = []\n",
        "  plan = pd.read_excel(plan_name)\n",
        "  plan = plan.fillna('projeto')\n",
        "  \n",
        "  while len(result) != num_aug:\n",
        "\n",
        "    inicio_verbo = plan['inicio_verbo']\n",
        "    artigo_indefinido = plan['artigo_indefinido']\n",
        "    tipo_de_proj = plan['tipo_de']\n",
        "    depois_tipo = plan['depois_tipo']\n",
        "    tipo_servico_eletrica = plan['tipo_servico_eletrica']\n",
        "    finalizacao = plan['finalizacao']\n",
        "\n",
        "    new_text = (f'{choice(inicio_verbo)} {choice(artigo_indefinido)} {choice(tipo_de_proj)} {choice(depois_tipo)} {choice(tipo_servico_eletrica)} {choice(finalizacao)}').capitalize()\n",
        "\n",
        "    if new_text not in result:\n",
        "      result.append(new_text)\n",
        "\n",
        "  return result"
      ],
      "metadata": {
        "id": "Gg23S4DydX-Y"
      },
      "execution_count": 13,
      "outputs": []
    },
    {
      "cell_type": "code",
      "source": [
        "plan_name = '/content/texto_artigo_masculino.xlsx'\n",
        "create_text(plan_name, 10)"
      ],
      "metadata": {
        "colab": {
          "base_uri": "https://localhost:8080/"
        },
        "id": "34URj9jkjE0O",
        "outputId": "332780d3-dcab-4f4a-c4fa-4261001378bf"
      },
      "execution_count": 15,
      "outputs": [
        {
          "output_type": "execute_result",
          "data": {
            "text/plain": [
              "['Projetar um projeto de implementação de rede eletrica comercial após a conclusão das atividades técnicas o profissional deverá proceder a baixa desta art 4',\n",
              " 'Desenvolver um projeto de inovação de rede eletrica residencial após a conclusão das atividades técnicas o profissional deverá proceder a baixa desta art 4',\n",
              " 'Criar um escopo de implantação de baixa tensão após a conclusão das atividades técnicas o profissional deverá proceder a baixa desta art 9',\n",
              " 'Forjar um esboço de inovação de rede eletrica após a conclusão das atividades técnicas o profissional deverá proceder a baixa desta art 7',\n",
              " 'Forjar um escopo de instalação de alta tensão após a conclusão das atividades técnicas o profissional deverá proceder a baixa desta art 3',\n",
              " 'Elaborar um objetivo de geração de alta tensão após a conclusão das atividades técnicas o profissional deverá proceder a baixa desta art 7',\n",
              " 'Criar um meio de produção de baixa tensão após a conclusão das atividades técnicas o profissional deverá proceder a baixa desta art 1',\n",
              " 'Definir um escopo de produção de entrada de energia após a conclusão das atividades técnicas o profissional deverá proceder a baixa desta art 3',\n",
              " 'Implementar um escopo de instalação de entrada de energia após a conclusão das atividades técnicas o profissional deverá proceder a baixa desta art 2',\n",
              " 'Formar um escopo de manutenção de rede eletrica após a conclusão das atividades técnicas o profissional deverá proceder a baixa desta art 6']"
            ]
          },
          "metadata": {},
          "execution_count": 15
        }
      ]
    }
  ]
}
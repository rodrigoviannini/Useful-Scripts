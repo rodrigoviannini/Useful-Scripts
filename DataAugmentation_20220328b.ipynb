{
  "cells": [
    {
      "cell_type": "markdown",
      "metadata": {
        "id": "YPMbzbBc7irR"
      },
      "source": [
        "Montando o Drive"
      ]
    },
    {
      "cell_type": "code",
      "execution_count": null,
      "metadata": {
        "colab": {
          "base_uri": "https://localhost:8080/"
        },
        "id": "ifBmJG_f8z0_",
        "outputId": "a6868638-21d5-4974-a4af-cd98c24ea75e"
      },
      "outputs": [
        {
          "output_type": "stream",
          "name": "stdout",
          "text": [
            "Mounted at /content/drive\n"
          ]
        }
      ],
      "source": [
        "from google.colab import drive\n",
        "drive.mount('/content/drive', force_remount=True)"
      ]
    },
    {
      "cell_type": "markdown",
      "metadata": {
        "id": "rJ3cUkXfs-Z_"
      },
      "source": [
        "Data Augmentation"
      ]
    },
    {
      "cell_type": "code",
      "execution_count": null,
      "metadata": {
        "id": "nTvJjyfIs-u-"
      },
      "outputs": [],
      "source": [
        "from numpy import expand_dims                                                   # Expanda a forma de uma matriz.\n",
        "from keras.preprocessing.image import load_img                                  # Carrega uma imagem no formato PIL\n",
        "from keras.preprocessing.image import img_to_array                              # Converte uma instância de imagem PIL em uma matriz Numpy\n",
        "from keras.preprocessing.image import ImageDataGenerator                        # Gere lotes de dados de imagem de tensor com aumento de dados em tempo real.\n",
        "from matplotlib import pyplot\n",
        "from PIL import Image\n",
        "import glob\n",
        "import cv2\n",
        "import os\n",
        "\n",
        "### JPG\n",
        "def augmentate_image_JPG(image_path, transformations):\n",
        "    '''\n",
        "    Esta função pega uma imagem e cria imagens semelhantes a partir dela.\n",
        "  \n",
        "    :param image_path: caminho da imagem que será aumentada.\n",
        "    :param transformations: array de dict contendo as transformações desejadas e seus parâmetros.\n",
        "    :retorno nulo \n",
        "    '''\n",
        "\n",
        "    # Preparar dados de amostras de imagem do caminho da imagem\n",
        "    samples = expand_dims(img_to_array(load_img(image_path)), 0)\n",
        "    img_base_name = image_path.split('.')[0]\n",
        "\n",
        "    counter = 0\n",
        "  \n",
        "    # Criar transformação t de params\n",
        "    for transformation_params in transformations:\n",
        "        t = ImageDataGenerator(**transformation_params)\n",
        "        iterator = t.flow(samples, batch_size=1)                                # crie um iterador e imprima os itens um por um:\n",
        "      \n",
        "        # Gere 9 imagens para cada transformação\n",
        "        num_images = 9\n",
        "        for i in range(num_images):\n",
        "            pyplot.subplot(330 + 1 + i)                                         # define subplot\n",
        "            batch = iterator.next()                                             # gerar lote de imagens\n",
        "            image = batch[0].astype('uint8')                                    # converter para inteiros\n",
        "            pyplot.imshow(image)                                                # plotar dados brutos de pixel\n",
        "            \n",
        "            # pyplot.show()                                                     # mostre a figura\n",
        "            counter += 1\n",
        "\n",
        "            img_name = f'{img_base_name}-{\"{:05d}\".format(counter)}.jpg'\n",
        "            # pyplot.savefig(img_name)\n",
        "            # cv2.imwrite(image_path, image, [cv2.IMWRITE_JPEG_QUALITY, 100])\n",
        "            # pyplot.show()\n",
        "      \n",
        "            path = '/content/images'\n",
        "            cv2.imwrite(os.path.join(path , img_name), \n",
        "                        image, [cv2.IMWRITE_JPEG_QUALITY, 100])\n",
        "            cv2.waitKey(0)\n",
        "\n",
        "### JPEG\n",
        "def augmentate_image_JPEG(image_path, transformations):\n",
        "    '''\n",
        "    Esta função pega uma imagem e cria imagens semelhantes a partir dela.\n",
        "  \n",
        "    :param image_path: caminho da imagem que será aumentada.\n",
        "    :param transformations: array de dict contendo as transformações desejadas e seus parâmetros.\n",
        "    :retorno nulo \n",
        "    '''\n",
        "\n",
        "    # Preparar dados de amostras de imagem do caminho da imagem\n",
        "    samples = expand_dims(img_to_array(load_img(image_path)), 0)\n",
        "    img_base_name = image_path.split('.')[0]\n",
        "\n",
        "    counter = 0\n",
        "  \n",
        "    # Criar transformação t de params\n",
        "    for transformation_params in transformations:\n",
        "        t = ImageDataGenerator(**transformation_params)\n",
        "        iterator = t.flow(samples, batch_size=1)                                # crie um iterador e imprima os itens um por um:\n",
        "      \n",
        "        # Gere 9 imagens para cada transformação\n",
        "        num_images = 9\n",
        "        for i in range(num_images):\n",
        "            pyplot.subplot(330 + 1 + i)                                         # define subplot\n",
        "            batch = iterator.next()                                             # gerar lote de imagens\n",
        "            image = batch[0].astype('uint8')                                    # converter para inteiros\n",
        "            pyplot.imshow(image)                                                # plotar dados brutos de pixel\n",
        "            \n",
        "            # pyplot.show()                                                     # mostre a figura\n",
        "            counter += 1\n",
        "\n",
        "            img_name = f'{img_base_name}-{\"{:05d}\".format(counter)}.jpeg'\n",
        "            # pyplot.savefig(img_name)\n",
        "            # cv2.imwrite(image_path, image, [cv2.IMWRITE_JPEG_QUALITY, 100])\n",
        "            # pyplot.show()\n",
        "      \n",
        "            path = '/content/images'\n",
        "            cv2.imwrite(os.path.join(path , img_name), \n",
        "                        image, [cv2.IMWRITE_JPEG_QUALITY, 100])\n",
        "            cv2.waitKey(0)\n",
        "\n",
        "### PNG\n",
        "def augmentate_image_PNG(image_path, transformations):\n",
        "    '''\n",
        "    Esta função pega uma imagem e cria imagens semelhantes a partir dela.\n",
        "  \n",
        "    :param image_path: caminho da imagem que será aumentada.\n",
        "    :param transformations: array de dict contendo as transformações desejadas e seus parâmetros.\n",
        "    :retorno nulo \n",
        "    '''\n",
        "\n",
        "    # Preparar dados de amostras de imagem do caminho da imagem\n",
        "    samples = expand_dims(img_to_array(load_img(image_path)), 0)\n",
        "    img_base_name = image_path.split('.')[0]\n",
        "\n",
        "    counter = 0\n",
        "  \n",
        "    # Criar transformação t de params\n",
        "    for transformation_params in transformations:\n",
        "        t = ImageDataGenerator(**transformation_params)\n",
        "        iterator = t.flow(samples, batch_size=1)                                # crie um iterador e imprima os itens um por um:\n",
        "      \n",
        "        # Gere 9 imagens para cada transformação\n",
        "        num_images = 9\n",
        "        for i in range(num_images):\n",
        "            pyplot.subplot(330 + 1 + i)                                         # define subplot\n",
        "            batch = iterator.next()                                             # gerar lote de imagens\n",
        "            image = batch[0].astype('uint8')                                    # converter para inteiros\n",
        "            pyplot.imshow(image)                                                # plotar dados brutos de pixel\n",
        "            \n",
        "            # pyplot.show()                                                     # mostre a figura\n",
        "            counter += 1\n",
        "\n",
        "            img_name = f'{img_base_name}-{\"{:05d}\".format(counter)}.png'\n",
        "            # pyplot.savefig(img_name)\n",
        "            # cv2.imwrite(image_path, image, [cv2.IMWRITE_JPEG_QUALITY, 100])\n",
        "            # pyplot.show()\n",
        "      \n",
        "            path = '/content/images'\n",
        "            cv2.imwrite(os.path.join(path , img_name), \n",
        "                        image, [cv2.IMWRITE_JPEG_QUALITY, 100])\n",
        "            cv2.waitKey(0)\n",
        "\n",
        "### PDF\n",
        "def augmentate_image_PDF(image_path, transformations):\n",
        "    '''\n",
        "    Esta função pega uma imagem e cria imagens semelhantes a partir dela.\n",
        "  \n",
        "    :param image_path: caminho da imagem que será aumentada.\n",
        "    :param transformations: array de dict contendo as transformações desejadas e seus parâmetros.\n",
        "    :retorno nulo \n",
        "    '''\n",
        "\n",
        "    # Preparar dados de amostras de imagem do caminho da imagem\n",
        "    samples = expand_dims(img_to_array(load_img(image_path)), 0)\n",
        "    img_base_name = image_path.split('.')[0]\n",
        "\n",
        "    counter = 0\n",
        "  \n",
        "    # Criar transformação t de params\n",
        "    for transformation_params in transformations:\n",
        "        t = ImageDataGenerator(**transformation_params)\n",
        "        iterator = t.flow(samples, batch_size=1)                                # crie um iterador e imprima os itens um por um:\n",
        "      \n",
        "        # Gere 9 imagens para cada transformação\n",
        "        num_images = 9\n",
        "        for i in range(num_images):\n",
        "            pyplot.subplot(330 + 1 + i)                                         # define subplot\n",
        "            batch = iterator.next()                                             # gerar lote de imagens\n",
        "            image = batch[0].astype('uint8')                                    # converter para inteiros\n",
        "            pyplot.imshow(image)                                                # plotar dados brutos de pixel\n",
        "            \n",
        "            # pyplot.show()                                                     # mostre a figura\n",
        "            counter += 1\n",
        "\n",
        "            img_name = f'{img_base_name}-{\"{:05d}\".format(counter)}.pdf'\n",
        "            # pyplot.savefig(img_name)\n",
        "            # cv2.imwrite(image_path, image, [cv2.IMWRITE_JPEG_QUALITY, 100])\n",
        "            # pyplot.show()\n",
        "      \n",
        "            path = '/content/images'\n",
        "            cv2.imwrite(os.path.join(path , img_name), \n",
        "                        image, [cv2.IMWRITE_JPEG_QUALITY, 100])\n",
        "            cv2.waitKey(0)"
      ]
    },
    {
      "cell_type": "markdown",
      "metadata": {
        "id": "eeNkMcdab_03"
      },
      "source": [
        "**JPG**"
      ]
    },
    {
      "cell_type": "markdown",
      "metadata": {
        "id": "hTiw1wcC7wlX"
      },
      "source": [
        "Aplicando o Data Augmentation na pasta de escolha"
      ]
    },
    {
      "cell_type": "code",
      "execution_count": null,
      "metadata": {
        "id": "UzBF2boC66Mp"
      },
      "outputs": [],
      "source": [
        "def data_augmented_JPG(folder):\n",
        "    ''' \n",
        "    Função que realiza o Data Augmentation das extensões JPG\n",
        "    :param folder: caminho da pasta de imagens que serão transformadas\n",
        "    '''\n",
        "\n",
        "    transformations = [\n",
        "        {'brightness_range': [0.1,0.5]},\n",
        "        {'rotation_range': 45},\n",
        "        {'horizontal_flip': True},\n",
        "        {'width_shift_range': [-100,100]},\n",
        "        {'height_shift_range': 0.25}\n",
        "    ]\n",
        "\n",
        "    images_paths = [image for image in glob.glob(f\"{folder}/*.jpg\")]\n",
        "\n",
        "    for image_path in images_paths:\n",
        "        augmentate_image_JPG(image_path, transformations)"
      ]
    },
    {
      "cell_type": "markdown",
      "metadata": {
        "id": "WRmJ9iR8cI5V"
      },
      "source": [
        "**JPEG**"
      ]
    },
    {
      "cell_type": "code",
      "execution_count": null,
      "metadata": {
        "id": "9bSRyHMDcNEJ"
      },
      "outputs": [],
      "source": [
        "def data_augmented_JPEG(folder):\n",
        "    ''' \n",
        "    Função que realiza o Data Augmentation das extensões JPEG\n",
        "    :param folder: caminho da pasta de imagens que serão transformadas\n",
        "    '''\n",
        "\n",
        "    transformations = [\n",
        "        {'brightness_range': [0.1,0.5]},\n",
        "        {'rotation_range': 45},\n",
        "        {'horizontal_flip': True},\n",
        "        {'vertical_flip': True},\n",
        "        {'width_shift_range': [-100, 100]},\n",
        "        {'height_shift_range': 0.25}\n",
        "    ]\n",
        "\n",
        "    images_paths = [image for image in glob.glob(f\"{folder}/*.jpeg\")]\n",
        "\n",
        "    for image_path in images_paths:\n",
        "        augmentate_image_JPEG(image_path, transformations)"
      ]
    },
    {
      "cell_type": "markdown",
      "metadata": {
        "id": "5UrQlaZHcJG8"
      },
      "source": [
        "**PNG**"
      ]
    },
    {
      "cell_type": "code",
      "execution_count": null,
      "metadata": {
        "id": "QVzfipMtcJNM"
      },
      "outputs": [],
      "source": [
        "import glob\n",
        "def data_augmented_PNG(folder):\n",
        "    ''' \n",
        "    Função que realiza o Data Augmentation das extensões PNG\n",
        "    :param folder: caminho da pasta de imagens que serão transformadas\n",
        "    '''\n",
        "\n",
        "\n",
        "    transformations = [\n",
        "        {'brightness_range': [0.1,0.5]},\n",
        "        {'rotation_range': 45},\n",
        "        {'horizontal_flip': True},\n",
        "        {'width_shift_range': [-100,100]},\n",
        "        {'height_shift_range': 0.25}\n",
        "    ]\n",
        "\n",
        "    images_paths = [image for image in glob.glob(f\"{folder}/*.png\")]\n",
        "\n",
        "    for image_path in images_paths:\n",
        "        augmentate_image_PNG(image_path, transformations)"
      ]
    },
    {
      "cell_type": "markdown",
      "metadata": {
        "id": "V4ib0pkhcDw9"
      },
      "source": [
        "**PDF**"
      ]
    },
    {
      "cell_type": "markdown",
      "source": [
        "Conversão de rquivos PDF em PNG - Após conversão aplicar o data augmentation com a função PNG"
      ],
      "metadata": {
        "id": "LSRSULafRf7e"
      }
    },
    {
      "cell_type": "code",
      "source": [
        "import fitz\n",
        "import os\n",
        "import fnmatch\n",
        "\n",
        "path = '/content/drive/MyDrive/Contextus/Classificador/Treinamento/Datasets/files/trt/'\n",
        "for file in os.listdir(path):\n",
        "    if fnmatch.fnmatch(file, '*.pdf'):\n",
        "        document = os.path.join(path, file)\n",
        "        doc = fitz.open(document)\n",
        "        page = doc.loadPage() #pagina-1\n",
        "        matriz = fitz.Matrix(8, 8)\n",
        "        pix = page.getPixmap(matrix=matriz)\n",
        "        output = str(file)+\" - outfile.png\"\n",
        "        pix.writePNG(output)"
      ],
      "metadata": {
        "id": "IQ03fA7jd96X"
      },
      "execution_count": null,
      "outputs": []
    },
    {
      "cell_type": "code",
      "source": [
        "%cp -r /content/z_pdf_temp /content/drive/MyDrive/Contextus/Classificador/Treinamento/pdf_results/trt"
      ],
      "metadata": {
        "id": "jhQwBkk-aIhS"
      },
      "execution_count": null,
      "outputs": []
    }
  ],
  "metadata": {
    "colab": {
      "collapsed_sections": [],
      "machine_shape": "hm",
      "name": "DataAugmentation_20220328b.ipynb",
      "provenance": []
    },
    "kernelspec": {
      "display_name": "Python 3",
      "name": "python3"
    },
    "language_info": {
      "name": "python"
    }
  },
  "nbformat": 4,
  "nbformat_minor": 0
}